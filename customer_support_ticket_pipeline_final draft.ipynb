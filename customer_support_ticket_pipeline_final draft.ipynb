{
 "cells": [
  {
   "cell_type": "code",
   "execution_count": 9,
   "id": "63a6fd96",
   "metadata": {},
   "outputs": [
    {
     "name": "stdout",
     "output_type": "stream",
     "text": [
      "Requirement already satisfied: pandas in /home/hi-born/miniconda3/envs/cstp/lib/python3.12/site-packages (2.3.0)\n",
      "Requirement already satisfied: numpy in /home/hi-born/miniconda3/envs/cstp/lib/python3.12/site-packages (2.2.6)\n",
      "Requirement already satisfied: matplotlib in /home/hi-born/miniconda3/envs/cstp/lib/python3.12/site-packages (3.10.3)\n",
      "Requirement already satisfied: seaborn in /home/hi-born/miniconda3/envs/cstp/lib/python3.12/site-packages (0.13.2)\n",
      "Requirement already satisfied: scikit-learn in /home/hi-born/miniconda3/envs/cstp/lib/python3.12/site-packages (1.7.0)\n",
      "Requirement already satisfied: nltk in /home/hi-born/miniconda3/envs/cstp/lib/python3.12/site-packages (3.9.1)\n",
      "Requirement already satisfied: gradio in /home/hi-born/miniconda3/envs/cstp/lib/python3.12/site-packages (5.33.0)\n",
      "Requirement already satisfied: python-dateutil>=2.8.2 in /home/hi-born/miniconda3/envs/cstp/lib/python3.12/site-packages (from pandas) (2.9.0.post0)\n",
      "Requirement already satisfied: pytz>=2020.1 in /home/hi-born/miniconda3/envs/cstp/lib/python3.12/site-packages (from pandas) (2025.2)\n",
      "Requirement already satisfied: tzdata>=2022.7 in /home/hi-born/miniconda3/envs/cstp/lib/python3.12/site-packages (from pandas) (2025.2)\n",
      "Requirement already satisfied: contourpy>=1.0.1 in /home/hi-born/miniconda3/envs/cstp/lib/python3.12/site-packages (from matplotlib) (1.3.2)\n",
      "Requirement already satisfied: cycler>=0.10 in /home/hi-born/miniconda3/envs/cstp/lib/python3.12/site-packages (from matplotlib) (0.12.1)\n",
      "Requirement already satisfied: fonttools>=4.22.0 in /home/hi-born/miniconda3/envs/cstp/lib/python3.12/site-packages (from matplotlib) (4.58.2)\n",
      "Requirement already satisfied: kiwisolver>=1.3.1 in /home/hi-born/miniconda3/envs/cstp/lib/python3.12/site-packages (from matplotlib) (1.4.8)\n",
      "Requirement already satisfied: packaging>=20.0 in /home/hi-born/miniconda3/envs/cstp/lib/python3.12/site-packages (from matplotlib) (25.0)\n",
      "Requirement already satisfied: pillow>=8 in /home/hi-born/miniconda3/envs/cstp/lib/python3.12/site-packages (from matplotlib) (11.2.1)\n",
      "Requirement already satisfied: pyparsing>=2.3.1 in /home/hi-born/miniconda3/envs/cstp/lib/python3.12/site-packages (from matplotlib) (3.2.3)\n",
      "Requirement already satisfied: scipy>=1.8.0 in /home/hi-born/miniconda3/envs/cstp/lib/python3.12/site-packages (from scikit-learn) (1.15.3)\n",
      "Requirement already satisfied: joblib>=1.2.0 in /home/hi-born/miniconda3/envs/cstp/lib/python3.12/site-packages (from scikit-learn) (1.5.1)\n",
      "Requirement already satisfied: threadpoolctl>=3.1.0 in /home/hi-born/miniconda3/envs/cstp/lib/python3.12/site-packages (from scikit-learn) (3.6.0)\n",
      "Requirement already satisfied: click in /home/hi-born/miniconda3/envs/cstp/lib/python3.12/site-packages (from nltk) (8.2.1)\n",
      "Requirement already satisfied: regex>=2021.8.3 in /home/hi-born/miniconda3/envs/cstp/lib/python3.12/site-packages (from nltk) (2024.11.6)\n",
      "Requirement already satisfied: tqdm in /home/hi-born/miniconda3/envs/cstp/lib/python3.12/site-packages (from nltk) (4.67.1)\n",
      "Requirement already satisfied: aiofiles<25.0,>=22.0 in /home/hi-born/miniconda3/envs/cstp/lib/python3.12/site-packages (from gradio) (24.1.0)\n",
      "Requirement already satisfied: anyio<5.0,>=3.0 in /home/hi-born/miniconda3/envs/cstp/lib/python3.12/site-packages (from gradio) (4.9.0)\n",
      "Requirement already satisfied: fastapi<1.0,>=0.115.2 in /home/hi-born/miniconda3/envs/cstp/lib/python3.12/site-packages (from gradio) (0.115.12)\n",
      "Requirement already satisfied: ffmpy in /home/hi-born/miniconda3/envs/cstp/lib/python3.12/site-packages (from gradio) (0.6.0)\n",
      "Requirement already satisfied: gradio-client==1.10.2 in /home/hi-born/miniconda3/envs/cstp/lib/python3.12/site-packages (from gradio) (1.10.2)\n",
      "Requirement already satisfied: groovy~=0.1 in /home/hi-born/miniconda3/envs/cstp/lib/python3.12/site-packages (from gradio) (0.1.2)\n",
      "Requirement already satisfied: httpx>=0.24.1 in /home/hi-born/miniconda3/envs/cstp/lib/python3.12/site-packages (from gradio) (0.28.1)\n",
      "Requirement already satisfied: huggingface-hub>=0.28.1 in /home/hi-born/miniconda3/envs/cstp/lib/python3.12/site-packages (from gradio) (0.32.4)\n",
      "Requirement already satisfied: jinja2<4.0 in /home/hi-born/miniconda3/envs/cstp/lib/python3.12/site-packages (from gradio) (3.1.6)\n",
      "Requirement already satisfied: markupsafe<4.0,>=2.0 in /home/hi-born/miniconda3/envs/cstp/lib/python3.12/site-packages (from gradio) (3.0.2)\n",
      "Requirement already satisfied: orjson~=3.0 in /home/hi-born/miniconda3/envs/cstp/lib/python3.12/site-packages (from gradio) (3.10.18)\n",
      "Requirement already satisfied: pydantic<2.12,>=2.0 in /home/hi-born/miniconda3/envs/cstp/lib/python3.12/site-packages (from gradio) (2.11.5)\n",
      "Requirement already satisfied: pydub in /home/hi-born/miniconda3/envs/cstp/lib/python3.12/site-packages (from gradio) (0.25.1)\n",
      "Requirement already satisfied: python-multipart>=0.0.18 in /home/hi-born/miniconda3/envs/cstp/lib/python3.12/site-packages (from gradio) (0.0.20)\n",
      "Requirement already satisfied: pyyaml<7.0,>=5.0 in /home/hi-born/miniconda3/envs/cstp/lib/python3.12/site-packages (from gradio) (6.0.2)\n",
      "Requirement already satisfied: ruff>=0.9.3 in /home/hi-born/miniconda3/envs/cstp/lib/python3.12/site-packages (from gradio) (0.11.13)\n",
      "Requirement already satisfied: safehttpx<0.2.0,>=0.1.6 in /home/hi-born/miniconda3/envs/cstp/lib/python3.12/site-packages (from gradio) (0.1.6)\n",
      "Requirement already satisfied: semantic-version~=2.0 in /home/hi-born/miniconda3/envs/cstp/lib/python3.12/site-packages (from gradio) (2.10.0)\n",
      "Requirement already satisfied: starlette<1.0,>=0.40.0 in /home/hi-born/miniconda3/envs/cstp/lib/python3.12/site-packages (from gradio) (0.46.2)\n",
      "Requirement already satisfied: tomlkit<0.14.0,>=0.12.0 in /home/hi-born/miniconda3/envs/cstp/lib/python3.12/site-packages (from gradio) (0.13.3)\n",
      "Requirement already satisfied: typer<1.0,>=0.12 in /home/hi-born/miniconda3/envs/cstp/lib/python3.12/site-packages (from gradio) (0.16.0)\n",
      "Requirement already satisfied: typing-extensions~=4.0 in /home/hi-born/miniconda3/envs/cstp/lib/python3.12/site-packages (from gradio) (4.14.0)\n",
      "Requirement already satisfied: uvicorn>=0.14.0 in /home/hi-born/miniconda3/envs/cstp/lib/python3.12/site-packages (from gradio) (0.34.3)\n",
      "Requirement already satisfied: fsspec in /home/hi-born/miniconda3/envs/cstp/lib/python3.12/site-packages (from gradio-client==1.10.2->gradio) (2025.5.1)\n",
      "Requirement already satisfied: websockets<16.0,>=10.0 in /home/hi-born/miniconda3/envs/cstp/lib/python3.12/site-packages (from gradio-client==1.10.2->gradio) (15.0.1)\n",
      "Requirement already satisfied: idna>=2.8 in /home/hi-born/miniconda3/envs/cstp/lib/python3.12/site-packages (from anyio<5.0,>=3.0->gradio) (3.10)\n",
      "Requirement already satisfied: sniffio>=1.1 in /home/hi-born/miniconda3/envs/cstp/lib/python3.12/site-packages (from anyio<5.0,>=3.0->gradio) (1.3.1)\n",
      "Requirement already satisfied: annotated-types>=0.6.0 in /home/hi-born/miniconda3/envs/cstp/lib/python3.12/site-packages (from pydantic<2.12,>=2.0->gradio) (0.7.0)\n",
      "Requirement already satisfied: pydantic-core==2.33.2 in /home/hi-born/miniconda3/envs/cstp/lib/python3.12/site-packages (from pydantic<2.12,>=2.0->gradio) (2.33.2)\n",
      "Requirement already satisfied: typing-inspection>=0.4.0 in /home/hi-born/miniconda3/envs/cstp/lib/python3.12/site-packages (from pydantic<2.12,>=2.0->gradio) (0.4.1)\n",
      "Requirement already satisfied: shellingham>=1.3.0 in /home/hi-born/miniconda3/envs/cstp/lib/python3.12/site-packages (from typer<1.0,>=0.12->gradio) (1.5.4)\n",
      "Requirement already satisfied: rich>=10.11.0 in /home/hi-born/miniconda3/envs/cstp/lib/python3.12/site-packages (from typer<1.0,>=0.12->gradio) (14.0.0)\n",
      "Requirement already satisfied: certifi in /home/hi-born/miniconda3/envs/cstp/lib/python3.12/site-packages (from httpx>=0.24.1->gradio) (2025.4.26)\n",
      "Requirement already satisfied: httpcore==1.* in /home/hi-born/miniconda3/envs/cstp/lib/python3.12/site-packages (from httpx>=0.24.1->gradio) (1.0.9)\n",
      "Requirement already satisfied: h11>=0.16 in /home/hi-born/miniconda3/envs/cstp/lib/python3.12/site-packages (from httpcore==1.*->httpx>=0.24.1->gradio) (0.16.0)\n",
      "Requirement already satisfied: filelock in /home/hi-born/miniconda3/envs/cstp/lib/python3.12/site-packages (from huggingface-hub>=0.28.1->gradio) (3.18.0)\n",
      "Requirement already satisfied: requests in /home/hi-born/miniconda3/envs/cstp/lib/python3.12/site-packages (from huggingface-hub>=0.28.1->gradio) (2.32.3)\n",
      "Requirement already satisfied: hf-xet<2.0.0,>=1.1.2 in /home/hi-born/miniconda3/envs/cstp/lib/python3.12/site-packages (from huggingface-hub>=0.28.1->gradio) (1.1.3)\n",
      "Requirement already satisfied: six>=1.5 in /home/hi-born/miniconda3/envs/cstp/lib/python3.12/site-packages (from python-dateutil>=2.8.2->pandas) (1.17.0)\n",
      "Requirement already satisfied: markdown-it-py>=2.2.0 in /home/hi-born/miniconda3/envs/cstp/lib/python3.12/site-packages (from rich>=10.11.0->typer<1.0,>=0.12->gradio) (3.0.0)\n",
      "Requirement already satisfied: pygments<3.0.0,>=2.13.0 in /home/hi-born/miniconda3/envs/cstp/lib/python3.12/site-packages (from rich>=10.11.0->typer<1.0,>=0.12->gradio) (2.19.1)\n",
      "Requirement already satisfied: mdurl~=0.1 in /home/hi-born/miniconda3/envs/cstp/lib/python3.12/site-packages (from markdown-it-py>=2.2.0->rich>=10.11.0->typer<1.0,>=0.12->gradio) (0.1.2)\n",
      "Requirement already satisfied: charset-normalizer<4,>=2 in /home/hi-born/miniconda3/envs/cstp/lib/python3.12/site-packages (from requests->huggingface-hub>=0.28.1->gradio) (3.4.2)\n",
      "Requirement already satisfied: urllib3<3,>=1.21.1 in /home/hi-born/miniconda3/envs/cstp/lib/python3.12/site-packages (from requests->huggingface-hub>=0.28.1->gradio) (2.4.0)\n",
      "Requirement already satisfied: pandas in /home/hi-born/miniconda3/envs/cstp/lib/python3.12/site-packages (2.3.0)\n",
      "Requirement already satisfied: numpy in /home/hi-born/miniconda3/envs/cstp/lib/python3.12/site-packages (2.2.6)\n",
      "Requirement already satisfied: matplotlib in /home/hi-born/miniconda3/envs/cstp/lib/python3.12/site-packages (3.10.3)\n",
      "Requirement already satisfied: seaborn in /home/hi-born/miniconda3/envs/cstp/lib/python3.12/site-packages (0.13.2)\n",
      "Requirement already satisfied: scikit-learn in /home/hi-born/miniconda3/envs/cstp/lib/python3.12/site-packages (1.7.0)\n",
      "Requirement already satisfied: nltk in /home/hi-born/miniconda3/envs/cstp/lib/python3.12/site-packages (3.9.1)\n",
      "Requirement already satisfied: gradio in /home/hi-born/miniconda3/envs/cstp/lib/python3.12/site-packages (5.33.0)\n",
      "Requirement already satisfied: openpyxl in /home/hi-born/miniconda3/envs/cstp/lib/python3.12/site-packages (3.1.5)\n",
      "Requirement already satisfied: xlrd in /home/hi-born/miniconda3/envs/cstp/lib/python3.12/site-packages (2.0.1)\n",
      "Requirement already satisfied: python-dateutil>=2.8.2 in /home/hi-born/miniconda3/envs/cstp/lib/python3.12/site-packages (from pandas) (2.9.0.post0)\n",
      "Requirement already satisfied: pytz>=2020.1 in /home/hi-born/miniconda3/envs/cstp/lib/python3.12/site-packages (from pandas) (2025.2)\n",
      "Requirement already satisfied: tzdata>=2022.7 in /home/hi-born/miniconda3/envs/cstp/lib/python3.12/site-packages (from pandas) (2025.2)\n",
      "Requirement already satisfied: contourpy>=1.0.1 in /home/hi-born/miniconda3/envs/cstp/lib/python3.12/site-packages (from matplotlib) (1.3.2)\n",
      "Requirement already satisfied: cycler>=0.10 in /home/hi-born/miniconda3/envs/cstp/lib/python3.12/site-packages (from matplotlib) (0.12.1)\n",
      "Requirement already satisfied: fonttools>=4.22.0 in /home/hi-born/miniconda3/envs/cstp/lib/python3.12/site-packages (from matplotlib) (4.58.2)\n",
      "Requirement already satisfied: kiwisolver>=1.3.1 in /home/hi-born/miniconda3/envs/cstp/lib/python3.12/site-packages (from matplotlib) (1.4.8)\n",
      "Requirement already satisfied: packaging>=20.0 in /home/hi-born/miniconda3/envs/cstp/lib/python3.12/site-packages (from matplotlib) (25.0)\n",
      "Requirement already satisfied: pillow>=8 in /home/hi-born/miniconda3/envs/cstp/lib/python3.12/site-packages (from matplotlib) (11.2.1)\n",
      "Requirement already satisfied: pyparsing>=2.3.1 in /home/hi-born/miniconda3/envs/cstp/lib/python3.12/site-packages (from matplotlib) (3.2.3)\n",
      "Requirement already satisfied: scipy>=1.8.0 in /home/hi-born/miniconda3/envs/cstp/lib/python3.12/site-packages (from scikit-learn) (1.15.3)\n",
      "Requirement already satisfied: joblib>=1.2.0 in /home/hi-born/miniconda3/envs/cstp/lib/python3.12/site-packages (from scikit-learn) (1.5.1)\n",
      "Requirement already satisfied: threadpoolctl>=3.1.0 in /home/hi-born/miniconda3/envs/cstp/lib/python3.12/site-packages (from scikit-learn) (3.6.0)\n",
      "Requirement already satisfied: click in /home/hi-born/miniconda3/envs/cstp/lib/python3.12/site-packages (from nltk) (8.2.1)\n",
      "Requirement already satisfied: regex>=2021.8.3 in /home/hi-born/miniconda3/envs/cstp/lib/python3.12/site-packages (from nltk) (2024.11.6)\n",
      "Requirement already satisfied: tqdm in /home/hi-born/miniconda3/envs/cstp/lib/python3.12/site-packages (from nltk) (4.67.1)\n",
      "Requirement already satisfied: aiofiles<25.0,>=22.0 in /home/hi-born/miniconda3/envs/cstp/lib/python3.12/site-packages (from gradio) (24.1.0)\n",
      "Requirement already satisfied: anyio<5.0,>=3.0 in /home/hi-born/miniconda3/envs/cstp/lib/python3.12/site-packages (from gradio) (4.9.0)\n",
      "Requirement already satisfied: fastapi<1.0,>=0.115.2 in /home/hi-born/miniconda3/envs/cstp/lib/python3.12/site-packages (from gradio) (0.115.12)\n",
      "Requirement already satisfied: ffmpy in /home/hi-born/miniconda3/envs/cstp/lib/python3.12/site-packages (from gradio) (0.6.0)\n",
      "Requirement already satisfied: gradio-client==1.10.2 in /home/hi-born/miniconda3/envs/cstp/lib/python3.12/site-packages (from gradio) (1.10.2)\n",
      "Requirement already satisfied: groovy~=0.1 in /home/hi-born/miniconda3/envs/cstp/lib/python3.12/site-packages (from gradio) (0.1.2)\n",
      "Requirement already satisfied: httpx>=0.24.1 in /home/hi-born/miniconda3/envs/cstp/lib/python3.12/site-packages (from gradio) (0.28.1)\n",
      "Requirement already satisfied: huggingface-hub>=0.28.1 in /home/hi-born/miniconda3/envs/cstp/lib/python3.12/site-packages (from gradio) (0.32.4)\n",
      "Requirement already satisfied: jinja2<4.0 in /home/hi-born/miniconda3/envs/cstp/lib/python3.12/site-packages (from gradio) (3.1.6)\n",
      "Requirement already satisfied: markupsafe<4.0,>=2.0 in /home/hi-born/miniconda3/envs/cstp/lib/python3.12/site-packages (from gradio) (3.0.2)\n",
      "Requirement already satisfied: orjson~=3.0 in /home/hi-born/miniconda3/envs/cstp/lib/python3.12/site-packages (from gradio) (3.10.18)\n",
      "Requirement already satisfied: pydantic<2.12,>=2.0 in /home/hi-born/miniconda3/envs/cstp/lib/python3.12/site-packages (from gradio) (2.11.5)\n",
      "Requirement already satisfied: pydub in /home/hi-born/miniconda3/envs/cstp/lib/python3.12/site-packages (from gradio) (0.25.1)\n",
      "Requirement already satisfied: python-multipart>=0.0.18 in /home/hi-born/miniconda3/envs/cstp/lib/python3.12/site-packages (from gradio) (0.0.20)\n",
      "Requirement already satisfied: pyyaml<7.0,>=5.0 in /home/hi-born/miniconda3/envs/cstp/lib/python3.12/site-packages (from gradio) (6.0.2)\n",
      "Requirement already satisfied: ruff>=0.9.3 in /home/hi-born/miniconda3/envs/cstp/lib/python3.12/site-packages (from gradio) (0.11.13)\n",
      "Requirement already satisfied: safehttpx<0.2.0,>=0.1.6 in /home/hi-born/miniconda3/envs/cstp/lib/python3.12/site-packages (from gradio) (0.1.6)\n",
      "Requirement already satisfied: semantic-version~=2.0 in /home/hi-born/miniconda3/envs/cstp/lib/python3.12/site-packages (from gradio) (2.10.0)\n",
      "Requirement already satisfied: starlette<1.0,>=0.40.0 in /home/hi-born/miniconda3/envs/cstp/lib/python3.12/site-packages (from gradio) (0.46.2)\n",
      "Requirement already satisfied: tomlkit<0.14.0,>=0.12.0 in /home/hi-born/miniconda3/envs/cstp/lib/python3.12/site-packages (from gradio) (0.13.3)\n",
      "Requirement already satisfied: typer<1.0,>=0.12 in /home/hi-born/miniconda3/envs/cstp/lib/python3.12/site-packages (from gradio) (0.16.0)\n",
      "Requirement already satisfied: typing-extensions~=4.0 in /home/hi-born/miniconda3/envs/cstp/lib/python3.12/site-packages (from gradio) (4.14.0)\n",
      "Requirement already satisfied: uvicorn>=0.14.0 in /home/hi-born/miniconda3/envs/cstp/lib/python3.12/site-packages (from gradio) (0.34.3)\n",
      "Requirement already satisfied: fsspec in /home/hi-born/miniconda3/envs/cstp/lib/python3.12/site-packages (from gradio-client==1.10.2->gradio) (2025.5.1)\n",
      "Requirement already satisfied: websockets<16.0,>=10.0 in /home/hi-born/miniconda3/envs/cstp/lib/python3.12/site-packages (from gradio-client==1.10.2->gradio) (15.0.1)\n",
      "Requirement already satisfied: idna>=2.8 in /home/hi-born/miniconda3/envs/cstp/lib/python3.12/site-packages (from anyio<5.0,>=3.0->gradio) (3.10)\n",
      "Requirement already satisfied: sniffio>=1.1 in /home/hi-born/miniconda3/envs/cstp/lib/python3.12/site-packages (from anyio<5.0,>=3.0->gradio) (1.3.1)\n",
      "Requirement already satisfied: annotated-types>=0.6.0 in /home/hi-born/miniconda3/envs/cstp/lib/python3.12/site-packages (from pydantic<2.12,>=2.0->gradio) (0.7.0)\n",
      "Requirement already satisfied: pydantic-core==2.33.2 in /home/hi-born/miniconda3/envs/cstp/lib/python3.12/site-packages (from pydantic<2.12,>=2.0->gradio) (2.33.2)\n",
      "Requirement already satisfied: typing-inspection>=0.4.0 in /home/hi-born/miniconda3/envs/cstp/lib/python3.12/site-packages (from pydantic<2.12,>=2.0->gradio) (0.4.1)\n",
      "Requirement already satisfied: shellingham>=1.3.0 in /home/hi-born/miniconda3/envs/cstp/lib/python3.12/site-packages (from typer<1.0,>=0.12->gradio) (1.5.4)\n",
      "Requirement already satisfied: rich>=10.11.0 in /home/hi-born/miniconda3/envs/cstp/lib/python3.12/site-packages (from typer<1.0,>=0.12->gradio) (14.0.0)\n",
      "Requirement already satisfied: et-xmlfile in /home/hi-born/miniconda3/envs/cstp/lib/python3.12/site-packages (from openpyxl) (2.0.0)\n",
      "Requirement already satisfied: certifi in /home/hi-born/miniconda3/envs/cstp/lib/python3.12/site-packages (from httpx>=0.24.1->gradio) (2025.4.26)\n",
      "Requirement already satisfied: httpcore==1.* in /home/hi-born/miniconda3/envs/cstp/lib/python3.12/site-packages (from httpx>=0.24.1->gradio) (1.0.9)\n",
      "Requirement already satisfied: h11>=0.16 in /home/hi-born/miniconda3/envs/cstp/lib/python3.12/site-packages (from httpcore==1.*->httpx>=0.24.1->gradio) (0.16.0)\n",
      "Requirement already satisfied: filelock in /home/hi-born/miniconda3/envs/cstp/lib/python3.12/site-packages (from huggingface-hub>=0.28.1->gradio) (3.18.0)\n",
      "Requirement already satisfied: requests in /home/hi-born/miniconda3/envs/cstp/lib/python3.12/site-packages (from huggingface-hub>=0.28.1->gradio) (2.32.3)\n",
      "Requirement already satisfied: hf-xet<2.0.0,>=1.1.2 in /home/hi-born/miniconda3/envs/cstp/lib/python3.12/site-packages (from huggingface-hub>=0.28.1->gradio) (1.1.3)\n",
      "Requirement already satisfied: six>=1.5 in /home/hi-born/miniconda3/envs/cstp/lib/python3.12/site-packages (from python-dateutil>=2.8.2->pandas) (1.17.0)\n",
      "Requirement already satisfied: markdown-it-py>=2.2.0 in /home/hi-born/miniconda3/envs/cstp/lib/python3.12/site-packages (from rich>=10.11.0->typer<1.0,>=0.12->gradio) (3.0.0)\n",
      "Requirement already satisfied: pygments<3.0.0,>=2.13.0 in /home/hi-born/miniconda3/envs/cstp/lib/python3.12/site-packages (from rich>=10.11.0->typer<1.0,>=0.12->gradio) (2.19.1)\n",
      "Requirement already satisfied: mdurl~=0.1 in /home/hi-born/miniconda3/envs/cstp/lib/python3.12/site-packages (from markdown-it-py>=2.2.0->rich>=10.11.0->typer<1.0,>=0.12->gradio) (0.1.2)\n",
      "Requirement already satisfied: charset-normalizer<4,>=2 in /home/hi-born/miniconda3/envs/cstp/lib/python3.12/site-packages (from requests->huggingface-hub>=0.28.1->gradio) (3.4.2)\n",
      "Requirement already satisfied: urllib3<3,>=1.21.1 in /home/hi-born/miniconda3/envs/cstp/lib/python3.12/site-packages (from requests->huggingface-hub>=0.28.1->gradio) (2.4.0)\n"
     ]
    }
   ],
   "source": [
    "!pip install pandas numpy matplotlib seaborn scikit-learn nltk gradio\n",
    "!pip install pandas numpy matplotlib seaborn scikit-learn nltk gradio openpyxl xlrd"
   ]
  },
  {
   "cell_type": "code",
   "execution_count": 1,
   "id": "f3704c87",
   "metadata": {},
   "outputs": [
    {
     "name": "stderr",
     "output_type": "stream",
     "text": [
      "[nltk_data] Downloading package punkt to /home/hi-born/nltk_data...\n",
      "[nltk_data]   Package punkt is already up-to-date!\n",
      "[nltk_data] Downloading package stopwords to /home/hi-\n",
      "[nltk_data]     born/nltk_data...\n",
      "[nltk_data]   Package stopwords is already up-to-date!\n",
      "[nltk_data] Downloading package wordnet to /home/hi-born/nltk_data...\n",
      "[nltk_data]   Package wordnet is already up-to-date!\n",
      "[nltk_data] Downloading package vader_lexicon to /home/hi-\n",
      "[nltk_data]     born/nltk_data...\n",
      "[nltk_data]   Package vader_lexicon is already up-to-date!\n",
      "/home/hi-born/miniconda3/envs/cstp/lib/python3.12/site-packages/tqdm/auto.py:21: TqdmWarning: IProgress not found. Please update jupyter and ipywidgets. See https://ipywidgets.readthedocs.io/en/stable/user_install.html\n",
      "  from .autonotebook import tqdm as notebook_tqdm\n"
     ]
    }
   ],
   "source": [
    "# 🧾 Section 1: Imports\n",
    "import pandas as pd\n",
    "import numpy as np\n",
    "import re\n",
    "import string\n",
    "import json\n",
    "import matplotlib.pyplot as plt\n",
    "import seaborn as sns\n",
    "\n",
    "from sklearn.model_selection import train_test_split, cross_val_score\n",
    "from sklearn.feature_extraction.text import TfidfVectorizer\n",
    "from sklearn.linear_model import LogisticRegression\n",
    "from sklearn.ensemble import RandomForestClassifier\n",
    "from sklearn.metrics import classification_report, confusion_matrix\n",
    "from sklearn.pipeline import Pipeline\n",
    "from sklearn.svm import SVC\n",
    "\n",
    "from nltk.corpus import stopwords\n",
    "from nltk.stem import WordNetLemmatizer\n",
    "from nltk.tokenize import word_tokenize\n",
    "from nltk.sentiment import SentimentIntensityAnalyzer\n",
    "\n",
    "import nltk\n",
    "nltk.download('punkt')\n",
    "nltk.download('stopwords')\n",
    "nltk.download('wordnet')\n",
    "nltk.download('vader_lexicon')\n",
    "\n",
    "import gradio as gr\n"
   ]
  },
  {
   "cell_type": "code",
   "execution_count": 2,
   "id": "ab8881d8",
   "metadata": {},
   "outputs": [
    {
     "name": "stdout",
     "output_type": "stream",
     "text": [
      "<class 'pandas.core.frame.DataFrame'>\n",
      "RangeIndex: 1000 entries, 0 to 999\n",
      "Data columns (total 5 columns):\n",
      " #   Column         Non-Null Count  Dtype \n",
      "---  ------         --------------  ----- \n",
      " 0   ticket_id      1000 non-null   int64 \n",
      " 1   ticket_text    945 non-null    object\n",
      " 2   issue_type     924 non-null    object\n",
      " 3   urgency_level  948 non-null    object\n",
      " 4   product        1000 non-null   object\n",
      "dtypes: int64(1), object(4)\n",
      "memory usage: 39.2+ KB\n"
     ]
    },
    {
     "data": {
      "text/html": [
       "<div>\n",
       "<style scoped>\n",
       "    .dataframe tbody tr th:only-of-type {\n",
       "        vertical-align: middle;\n",
       "    }\n",
       "\n",
       "    .dataframe tbody tr th {\n",
       "        vertical-align: top;\n",
       "    }\n",
       "\n",
       "    .dataframe thead th {\n",
       "        text-align: right;\n",
       "    }\n",
       "</style>\n",
       "<table border=\"1\" class=\"dataframe\">\n",
       "  <thead>\n",
       "    <tr style=\"text-align: right;\">\n",
       "      <th></th>\n",
       "      <th>ticket_id</th>\n",
       "      <th>ticket_text</th>\n",
       "      <th>issue_type</th>\n",
       "      <th>urgency_level</th>\n",
       "      <th>product</th>\n",
       "    </tr>\n",
       "  </thead>\n",
       "  <tbody>\n",
       "    <tr>\n",
       "      <th>0</th>\n",
       "      <td>1</td>\n",
       "      <td>Payment issue for my SmartWatch V2. I was unde...</td>\n",
       "      <td>Billing Problem</td>\n",
       "      <td>Medium</td>\n",
       "      <td>SmartWatch V2</td>\n",
       "    </tr>\n",
       "    <tr>\n",
       "      <th>1</th>\n",
       "      <td>2</td>\n",
       "      <td>Can you tell me more about the UltraClean Vacu...</td>\n",
       "      <td>General Inquiry</td>\n",
       "      <td>NaN</td>\n",
       "      <td>UltraClean Vacuum</td>\n",
       "    </tr>\n",
       "    <tr>\n",
       "      <th>2</th>\n",
       "      <td>3</td>\n",
       "      <td>I ordered SoundWave 300 but got EcoBreeze AC i...</td>\n",
       "      <td>Wrong Item</td>\n",
       "      <td>Medium</td>\n",
       "      <td>SoundWave 300</td>\n",
       "    </tr>\n",
       "    <tr>\n",
       "      <th>3</th>\n",
       "      <td>4</td>\n",
       "      <td>Facing installation issue with PhotoSnap Cam. ...</td>\n",
       "      <td>Installation Issue</td>\n",
       "      <td>Low</td>\n",
       "      <td>PhotoSnap Cam</td>\n",
       "    </tr>\n",
       "    <tr>\n",
       "      <th>4</th>\n",
       "      <td>5</td>\n",
       "      <td>Order #30903 for Vision LED TV is 13 days late...</td>\n",
       "      <td>Late Delivery</td>\n",
       "      <td>NaN</td>\n",
       "      <td>Vision LED TV</td>\n",
       "    </tr>\n",
       "  </tbody>\n",
       "</table>\n",
       "</div>"
      ],
      "text/plain": [
       "   ticket_id                                        ticket_text  \\\n",
       "0          1  Payment issue for my SmartWatch V2. I was unde...   \n",
       "1          2  Can you tell me more about the UltraClean Vacu...   \n",
       "2          3  I ordered SoundWave 300 but got EcoBreeze AC i...   \n",
       "3          4  Facing installation issue with PhotoSnap Cam. ...   \n",
       "4          5  Order #30903 for Vision LED TV is 13 days late...   \n",
       "\n",
       "           issue_type urgency_level            product  \n",
       "0     Billing Problem        Medium      SmartWatch V2  \n",
       "1     General Inquiry           NaN  UltraClean Vacuum  \n",
       "2          Wrong Item        Medium      SoundWave 300  \n",
       "3  Installation Issue           Low      PhotoSnap Cam  \n",
       "4       Late Delivery           NaN      Vision LED TV  "
      ]
     },
     "execution_count": 2,
     "metadata": {},
     "output_type": "execute_result"
    }
   ],
   "source": [
    "# 📁 Section 2: Load and Explore Dataset\n",
    "df = pd.read_excel(\"ai_dev_assignment_tickets_complex_1000.xls\")\n",
    "\n",
    "# Display basic info\n",
    "df.info()\n",
    "df.head()\n"
   ]
  },
  {
   "cell_type": "code",
   "execution_count": 9,
   "id": "866a429d",
   "metadata": {},
   "outputs": [
    {
     "name": "stderr",
     "output_type": "stream",
     "text": [
      "[nltk_data] Downloading package punkt to /home/hi-born/nltk_data...\n",
      "[nltk_data]   Package punkt is already up-to-date!\n",
      "[nltk_data] Downloading package stopwords to /home/hi-\n",
      "[nltk_data]     born/nltk_data...\n",
      "[nltk_data]   Package stopwords is already up-to-date!\n",
      "[nltk_data] Downloading package wordnet to /home/hi-born/nltk_data...\n",
      "[nltk_data]   Package wordnet is already up-to-date!\n",
      "[nltk_data] Downloading package vader_lexicon to /home/hi-\n",
      "[nltk_data]     born/nltk_data...\n",
      "[nltk_data]   Package vader_lexicon is already up-to-date!\n",
      "[nltk_data] Downloading package punkt_tab to /home/hi-\n",
      "[nltk_data]     born/nltk_data...\n",
      "[nltk_data]   Unzipping tokenizers/punkt_tab.zip.\n"
     ]
    },
    {
     "data": {
      "text/plain": [
       "True"
      ]
     },
     "execution_count": 9,
     "metadata": {},
     "output_type": "execute_result"
    }
   ],
   "source": [
    "import nltk\n",
    "nltk.download('punkt')  # This is the correct resource\n",
    "nltk.download('stopwords')\n",
    "nltk.download('wordnet')\n",
    "nltk.download('vader_lexicon')\n",
    "# import nltk\n",
    "# nltk.download('punkt')\n",
    "nltk.download('punkt_tab')  # this may not exist, but resolves some edge cases\n",
    "# nltk.download('stopwords')\n",
    "# nltk.download('wordnet')\n"
   ]
  },
  {
   "cell_type": "code",
   "execution_count": 10,
   "id": "643220d1",
   "metadata": {},
   "outputs": [],
   "source": [
    "# 🧹 Section 3: Data Cleaning and Preprocessing\n",
    "\n",
    "def clean_text(text):\n",
    "    text = str(text).lower()\n",
    "    text = re.sub(r'\\d+', '', text)\n",
    "    text = re.sub(r'[^\\w\\s]', '', text)\n",
    "    text = re.sub(r'\\s+', ' ', text).strip()\n",
    "    return text\n",
    "\n",
    "stop_words = set(stopwords.words('english'))\n",
    "lemmatizer = WordNetLemmatizer()\n",
    "\n",
    "def preprocess_text(text):\n",
    "    text = clean_text(text)\n",
    "    tokens = word_tokenize(text)\n",
    "    tokens = [lemmatizer.lemmatize(word) for word in tokens if word not in stop_words]\n",
    "    return \" \".join(tokens)"
   ]
  },
  {
   "cell_type": "code",
   "execution_count": 12,
   "id": "72f92709",
   "metadata": {},
   "outputs": [],
   "source": [
    "df['clean_text'] = df['ticket_text'].apply(preprocess_text)\n",
    "\n",
    "# Drop NA values\n",
    "df.dropna(inplace=True)"
   ]
  },
  {
   "cell_type": "code",
   "execution_count": 13,
   "id": "effeab86",
   "metadata": {},
   "outputs": [],
   "source": [
    "# 📐 Section 4: Feature Engineering\n",
    "\n",
    "# Ticket length\n",
    "df['ticket_length'] = df['ticket_text'].apply(lambda x: len(str(x).split()))\n",
    "\n",
    "# Sentiment Score\n",
    "sia = SentimentIntensityAnalyzer()\n",
    "df['sentiment'] = df['ticket_text'].apply(lambda x: sia.polarity_scores(x)['compound'])\n",
    "\n",
    "# TF-IDF Features\n",
    "tfidf = TfidfVectorizer(max_features=3000)\n",
    "X_tfidf = tfidf.fit_transform(df['clean_text'])\n"
   ]
  },
  {
   "cell_type": "code",
   "execution_count": 16,
   "id": "10774e98",
   "metadata": {},
   "outputs": [],
   "source": [
    "# 🔍 Section 5: Classification Models\n",
    "\n",
    "# Combine features\n",
    "X = pd.concat(\n",
    "    [pd.DataFrame(X_tfidf.toarray()), df[['ticket_length', 'sentiment']].reset_index(drop=True)],\n",
    "    axis=1\n",
    ")\n",
    "\n",
    "# Ensure all column names are strings BEFORE train/test split\n",
    "X.columns = X.columns.astype(str)\n",
    "\n",
    "# Labels\n",
    "y_issue = df['issue_type']\n",
    "y_urgency = df['urgency_level']\n",
    "\n",
    "# Train/Test Split\n",
    "X_train_i, X_test_i, y_train_i, y_test_i = train_test_split(X, y_issue, test_size=0.2, random_state=42)\n",
    "X_train_u, X_test_u, y_train_u, y_test_u = train_test_split(X, y_urgency, test_size=0.2, random_state=42)\n",
    "\n",
    "# Model 1: Issue Type Classifier\n",
    "clf_issue = RandomForestClassifier()\n",
    "clf_issue.fit(X_train_i, y_train_i)\n",
    "pred_i = clf_issue.predict(X_test_i)\n",
    "\n",
    "# Model 2: Urgency Level Classifier\n",
    "clf_urgency = LogisticRegression(max_iter=1000)\n",
    "clf_urgency.fit(X_train_u, y_train_u)\n",
    "pred_u = clf_urgency.predict(X_test_u)\n"
   ]
  },
  {
   "cell_type": "code",
   "execution_count": 17,
   "id": "ac0f7915",
   "metadata": {},
   "outputs": [],
   "source": [
    "# 🏷️ Section 6: Entity Extraction\n",
    "\n",
    "PRODUCT_LIST = df['product'].dropna().unique().tolist()\n",
    "COMPLAINT_KEYWORDS = ['broken', 'late', 'error', 'damaged', 'not working', 'crash']\n",
    "\n",
    "def extract_entities(text):\n",
    "    entities = {}\n",
    "    text_lower = text.lower()\n",
    "    \n",
    "    # Product name\n",
    "    found_product = [p for p in PRODUCT_LIST if p.lower() in text_lower]\n",
    "    entities['product'] = found_product if found_product else None\n",
    "    \n",
    "    # Date extraction (simple regex)\n",
    "    dates = re.findall(r'\\b(?:\\d{1,2}[-/th|st|rd|nd\\s]*)?(?:jan|feb|mar|apr|may|jun|jul|aug|sep|oct|nov|dec)[a-z]*[\\s/-]*\\d{2,4}\\b|\\b\\d{1,2}/\\d{1,2}/\\d{2,4}\\b', text_lower)\n",
    "    entities['dates'] = dates if dates else None\n",
    "\n",
    "    # Complaint keywords\n",
    "    complaints = [word for word in COMPLAINT_KEYWORDS if word in text_lower]\n",
    "    entities['complaints'] = complaints if complaints else None\n",
    "\n",
    "    return entities\n"
   ]
  },
  {
   "cell_type": "code",
   "execution_count": 18,
   "id": "971b8128",
   "metadata": {},
   "outputs": [
    {
     "name": "stderr",
     "output_type": "stream",
     "text": [
      "/home/hi-born/miniconda3/envs/cstp/lib/python3.12/site-packages/sklearn/utils/validation.py:2749: UserWarning: X does not have valid feature names, but RandomForestClassifier was fitted with feature names\n",
      "  warnings.warn(\n",
      "/home/hi-born/miniconda3/envs/cstp/lib/python3.12/site-packages/sklearn/utils/validation.py:2749: UserWarning: X does not have valid feature names, but LogisticRegression was fitted with feature names\n",
      "  warnings.warn(\n"
     ]
    },
    {
     "data": {
      "text/plain": [
       "{'predicted_issue_type': 'Product Defect',\n",
       " 'predicted_urgency_level': 'High',\n",
       " 'extracted_entities': {'product': None, 'dates': None, 'complaints': None}}"
      ]
     },
     "execution_count": 18,
     "metadata": {},
     "output_type": "execute_result"
    }
   ],
   "source": [
    "# 🔄 Section 7: Integration Function\n",
    "\n",
    "def analyze_ticket(text):\n",
    "    text_clean = preprocess_text(text)\n",
    "    tfidf_vec = tfidf.transform([text_clean])\n",
    "    length = len(text.split())\n",
    "    sentiment = sia.polarity_scores(text)['compound']\n",
    "    \n",
    "    features = np.hstack([tfidf_vec.toarray(), [[length, sentiment]]])\n",
    "    \n",
    "    issue_pred = clf_issue.predict(features)[0]\n",
    "    urgency_pred = clf_urgency.predict(features)[0]\n",
    "    entities = extract_entities(text)\n",
    "    \n",
    "    return {\n",
    "        \"predicted_issue_type\": issue_pred,\n",
    "        \"predicted_urgency_level\": urgency_pred,\n",
    "        \"extracted_entities\": entities\n",
    "    }\n",
    "\n",
    "# Test\n",
    "analyze_ticket(\"My phone stopped working after the update on 15th May. It's a Pixel 5.\")\n"
   ]
  },
  {
   "cell_type": "code",
   "execution_count": 19,
   "id": "2ff0039f",
   "metadata": {},
   "outputs": [
    {
     "name": "stdout",
     "output_type": "stream",
     "text": [
      "* Running on local URL:  http://127.0.0.1:7860\n",
      "* To create a public link, set `share=True` in `launch()`.\n"
     ]
    },
    {
     "data": {
      "text/html": [
       "<div><iframe src=\"http://127.0.0.1:7860/\" width=\"100%\" height=\"500\" allow=\"autoplay; camera; microphone; clipboard-read; clipboard-write;\" frameborder=\"0\" allowfullscreen></iframe></div>"
      ],
      "text/plain": [
       "<IPython.core.display.HTML object>"
      ]
     },
     "metadata": {},
     "output_type": "display_data"
    },
    {
     "data": {
      "text/plain": []
     },
     "execution_count": 19,
     "metadata": {},
     "output_type": "execute_result"
    }
   ],
   "source": [
    "# 🖼️ Section 8: Gradio App (Optional)\n",
    "\n",
    "def gradio_interface(text):\n",
    "    result = analyze_ticket(text)\n",
    "    return f\"Issue Type: {result['predicted_issue_type']}\\nUrgency: {result['predicted_urgency_level']}\\nEntities: {json.dumps(result['extracted_entities'], indent=2)}\"\n",
    "\n",
    "gr.Interface(fn=gradio_interface, \n",
    "             inputs=\"text\", \n",
    "             outputs=\"text\", \n",
    "             title=\"Customer Support Ticket Analyzer\").launch()\n"
   ]
  },
  {
   "cell_type": "code",
   "execution_count": 20,
   "id": "4981ee6f",
   "metadata": {},
   "outputs": [
    {
     "data": {
      "image/png": "[encoded data removed]",
      "text/plain": [
       "<Figure size 1000x500 with 1 Axes>"
      ]
     },
     "metadata": {},
     "output_type": "display_data"
    },
    {
     "data": {
      "image/png": "[encoded data removed]",
      "text/plain": [
       "<Figure size 640x480 with 2 Axes>"
      ]
     },
     "metadata": {},
     "output_type": "display_data"
    },
    {
     "name": "stderr",
     "output_type": "stream",
     "text": [
      "/home/hi-born/miniconda3/envs/cstp/lib/python3.12/site-packages/sklearn/utils/validation.py:2749: UserWarning: X does not have valid feature names, but RandomForestClassifier was fitted with feature names\n",
      "  warnings.warn(\n",
      "/home/hi-born/miniconda3/envs/cstp/lib/python3.12/site-packages/sklearn/utils/validation.py:2749: UserWarning: X does not have valid feature names, but LogisticRegression was fitted with feature names\n",
      "  warnings.warn(\n"
     ]
    },
    {
     "name": "stdout",
     "output_type": "stream",
     "text": [
      "Created dataset file at: .gradio/flagged/dataset1.csv\n"
     ]
    }
   ],
   "source": [
    "# 📊 Section 9: Bonus Visualizations (Optional)\n",
    "\n",
    "# Distribution of tickets\n",
    "plt.figure(figsize=(10, 5))\n",
    "sns.countplot(data=df, x='urgency_level')\n",
    "plt.title(\"Urgency Level Distribution\")\n",
    "plt.show()\n",
    "\n",
    "# Confusion Matrix\n",
    "sns.heatmap(confusion_matrix(y_test_u, pred_u), annot=True, fmt='d', cmap='Blues')\n",
    "plt.title(\"Urgency Level Confusion Matrix\")\n",
    "plt.xlabel(\"Predicted\")\n",
    "plt.ylabel(\"Actual\")\n",
    "plt.show()\n"
   ]
  }
 ],
 "metadata": {
  "kernelspec": {
   "display_name": "cstp",
   "language": "python",
   "name": "python3"
  },
  "language_info": {
   "codemirror_mode": {
    "name": "ipython",
    "version": 3
   },
   "file_extension": ".py",
   "mimetype": "text/x-python",
   "name": "python",
   "nbconvert_exporter": "python",
   "pygments_lexer": "ipython3",
   "version": "3.12.0"
  }
 },
 "nbformat": 4,
 "nbformat_minor": 5
}
